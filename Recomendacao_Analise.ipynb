{
 "cells": [
  {
   "cell_type": "markdown",
   "id": "dc90eb81-4c6d-4ec6-b232-fa1aa87c536b",
   "metadata": {},
   "source": [
    "# Noções basicas de systema de classificação 👨‍🎓💻"
   ]
  },
  {
   "cell_type": "code",
   "execution_count": 134,
   "id": "10d02153-dee1-4105-958d-0d0f0229a905",
   "metadata": {},
   "outputs": [],
   "source": [
    "import pandas as pd"
   ]
  },
  {
   "cell_type": "code",
   "execution_count": 135,
   "id": "089f09a3-b531-4418-baa8-5b04a83f732e",
   "metadata": {},
   "outputs": [],
   "source": [
    "path = \"ml-latest-small\\\\movies.csv\"\n",
    "\n",
    "path1 = \"ml-latest-small\\\\ratings.csv\"\n",
    "\n",
    "filmes = pd.read_csv(path)\n",
    "filmes = filmes.set_index(\"movieId\")\n",
    "\n",
    "\n",
    "notas = pd.read_csv(path1)"
   ]
  },
  {
   "cell_type": "code",
   "execution_count": 139,
   "id": "be531d39-e24f-470f-8773-07b2e4215e78",
   "metadata": {},
   "outputs": [],
   "source": [
    "votos = notas[\"movieId\"].value_counts()"
   ]
  },
  {
   "cell_type": "code",
   "execution_count": 140,
   "id": "6b8cb2d0-6489-4cbd-874b-7d8f27a2ab14",
   "metadata": {},
   "outputs": [],
   "source": [
    "filmes[\"Total notas\"] = votos"
   ]
  },
  {
   "cell_type": "code",
   "execution_count": 141,
   "id": "8d7fad0a-9c17-480d-8ff9-775d84048b94",
   "metadata": {},
   "outputs": [
    {
     "data": {
      "text/html": [
       "<div>\n",
       "<style scoped>\n",
       "    .dataframe tbody tr th:only-of-type {\n",
       "        vertical-align: middle;\n",
       "    }\n",
       "\n",
       "    .dataframe tbody tr th {\n",
       "        vertical-align: top;\n",
       "    }\n",
       "\n",
       "    .dataframe thead th {\n",
       "        text-align: right;\n",
       "    }\n",
       "</style>\n",
       "<table border=\"1\" class=\"dataframe\">\n",
       "  <thead>\n",
       "    <tr style=\"text-align: right;\">\n",
       "      <th></th>\n",
       "      <th>title</th>\n",
       "      <th>genres</th>\n",
       "      <th>Total notas</th>\n",
       "    </tr>\n",
       "    <tr>\n",
       "      <th>movieId</th>\n",
       "      <th></th>\n",
       "      <th></th>\n",
       "      <th></th>\n",
       "    </tr>\n",
       "  </thead>\n",
       "  <tbody>\n",
       "    <tr>\n",
       "      <th>318</th>\n",
       "      <td>Shawshank Redemption, The (1994)</td>\n",
       "      <td>Crime|Drama</td>\n",
       "      <td>97999.0</td>\n",
       "    </tr>\n",
       "    <tr>\n",
       "      <th>356</th>\n",
       "      <td>Forrest Gump (1994)</td>\n",
       "      <td>Comedy|Drama|Romance|War</td>\n",
       "      <td>97040.0</td>\n",
       "    </tr>\n",
       "    <tr>\n",
       "      <th>296</th>\n",
       "      <td>Pulp Fiction (1994)</td>\n",
       "      <td>Comedy|Crime|Drama|Thriller</td>\n",
       "      <td>92406.0</td>\n",
       "    </tr>\n",
       "    <tr>\n",
       "      <th>593</th>\n",
       "      <td>Silence of the Lambs, The (1991)</td>\n",
       "      <td>Crime|Horror|Thriller</td>\n",
       "      <td>87899.0</td>\n",
       "    </tr>\n",
       "    <tr>\n",
       "      <th>2571</th>\n",
       "      <td>Matrix, The (1999)</td>\n",
       "      <td>Action|Sci-Fi|Thriller</td>\n",
       "      <td>84545.0</td>\n",
       "    </tr>\n",
       "  </tbody>\n",
       "</table>\n",
       "</div>"
      ],
      "text/plain": [
       "                                    title                       genres  \\\n",
       "movieId                                                                  \n",
       "318      Shawshank Redemption, The (1994)                  Crime|Drama   \n",
       "356                   Forrest Gump (1994)     Comedy|Drama|Romance|War   \n",
       "296                   Pulp Fiction (1994)  Comedy|Crime|Drama|Thriller   \n",
       "593      Silence of the Lambs, The (1991)        Crime|Horror|Thriller   \n",
       "2571                   Matrix, The (1999)       Action|Sci-Fi|Thriller   \n",
       "\n",
       "         Total notas  \n",
       "movieId               \n",
       "318          97999.0  \n",
       "356          97040.0  \n",
       "296          92406.0  \n",
       "593          87899.0  \n",
       "2571         84545.0  "
      ]
     },
     "execution_count": 141,
     "metadata": {},
     "output_type": "execute_result"
    }
   ],
   "source": [
    "filmes.sort_values(\"Total notas\", ascending=False).head()"
   ]
  },
  {
   "cell_type": "code",
   "execution_count": 142,
   "id": "4c1b1e15-6073-468b-8e76-a1eea901968e",
   "metadata": {},
   "outputs": [],
   "source": [
    "media_votos = notas.groupby(\"movieId\").mean()[\"rating\"]\n",
    "\n",
    "filmes[\"media\"] = media_votos"
   ]
  },
  {
   "cell_type": "code",
   "execution_count": 143,
   "id": "0631dd37-c3e0-4ea3-b497-bfbaba89fad5",
   "metadata": {},
   "outputs": [
    {
     "data": {
      "text/html": [
       "<div>\n",
       "<style scoped>\n",
       "    .dataframe tbody tr th:only-of-type {\n",
       "        vertical-align: middle;\n",
       "    }\n",
       "\n",
       "    .dataframe tbody tr th {\n",
       "        vertical-align: top;\n",
       "    }\n",
       "\n",
       "    .dataframe thead th {\n",
       "        text-align: right;\n",
       "    }\n",
       "</style>\n",
       "<table border=\"1\" class=\"dataframe\">\n",
       "  <thead>\n",
       "    <tr style=\"text-align: right;\">\n",
       "      <th></th>\n",
       "      <th>title</th>\n",
       "      <th>genres</th>\n",
       "      <th>Total notas</th>\n",
       "      <th>media</th>\n",
       "    </tr>\n",
       "    <tr>\n",
       "      <th>movieId</th>\n",
       "      <th></th>\n",
       "      <th></th>\n",
       "      <th></th>\n",
       "      <th></th>\n",
       "    </tr>\n",
       "  </thead>\n",
       "  <tbody>\n",
       "    <tr>\n",
       "      <th>169338</th>\n",
       "      <td>Brad Williams: Daddy Issues (2016)</td>\n",
       "      <td>Comedy</td>\n",
       "      <td>2.0</td>\n",
       "      <td>5.0</td>\n",
       "    </tr>\n",
       "    <tr>\n",
       "      <th>187729</th>\n",
       "      <td>Ab-normal Beauty (2004)</td>\n",
       "      <td>Horror</td>\n",
       "      <td>1.0</td>\n",
       "      <td>5.0</td>\n",
       "    </tr>\n",
       "    <tr>\n",
       "      <th>172149</th>\n",
       "      <td>Back to You and Me (2005)</td>\n",
       "      <td>Drama|Romance</td>\n",
       "      <td>1.0</td>\n",
       "      <td>5.0</td>\n",
       "    </tr>\n",
       "    <tr>\n",
       "      <th>160966</th>\n",
       "      <td>You're Human Like the Rest of Them (1967)</td>\n",
       "      <td>(no genres listed)</td>\n",
       "      <td>1.0</td>\n",
       "      <td>5.0</td>\n",
       "    </tr>\n",
       "    <tr>\n",
       "      <th>134387</th>\n",
       "      <td>At Ellen’s Age (2011)</td>\n",
       "      <td>Comedy|Drama</td>\n",
       "      <td>1.0</td>\n",
       "      <td>5.0</td>\n",
       "    </tr>\n",
       "  </tbody>\n",
       "</table>\n",
       "</div>"
      ],
      "text/plain": [
       "                                             title              genres  \\\n",
       "movieId                                                                  \n",
       "169338          Brad Williams: Daddy Issues (2016)              Comedy   \n",
       "187729                     Ab-normal Beauty (2004)              Horror   \n",
       "172149                   Back to You and Me (2005)       Drama|Romance   \n",
       "160966   You're Human Like the Rest of Them (1967)  (no genres listed)   \n",
       "134387                       At Ellen’s Age (2011)        Comedy|Drama   \n",
       "\n",
       "         Total notas  media  \n",
       "movieId                      \n",
       "169338           2.0    5.0  \n",
       "187729           1.0    5.0  \n",
       "172149           1.0    5.0  \n",
       "160966           1.0    5.0  \n",
       "134387           1.0    5.0  "
      ]
     },
     "execution_count": 143,
     "metadata": {},
     "output_type": "execute_result"
    }
   ],
   "source": [
    "filmes.sort_values(\"media\", ascending=False).head()"
   ]
  },
  {
   "cell_type": "markdown",
   "id": "af848688-a9c8-4fe9-84f1-768916a9de02",
   "metadata": {},
   "source": [
    "# Plotando Gráfico para compreensão de calculo das distâncias\n",
    "\n",
    "## Calculando distância entre pontos usando hipotenusa"
   ]
  },
  {
   "cell_type": "code",
   "execution_count": 181,
   "id": "f45da3de-798e-4909-9efd-2b0a693f31cc",
   "metadata": {},
   "outputs": [],
   "source": [
    "import matplotlib.pyplot as plt\n",
    "import numpy as np"
   ]
  },
  {
   "cell_type": "code",
   "execution_count": 183,
   "id": "4fc743e3-ba13-42c5-9b55-3c86b21a9a96",
   "metadata": {},
   "outputs": [
    {
     "data": {
      "text/plain": [
       "[<matplotlib.lines.Line2D at 0x29d9d7f49d0>]"
      ]
     },
     "execution_count": 183,
     "metadata": {},
     "output_type": "execute_result"
    },
    {
     "data": {
      "image/png": "[encoded data removed]",
      "text/plain": [
       "<Figure size 640x480 with 1 Axes>"
      ]
     },
     "metadata": {},
     "output_type": "display_data"
    }
   ],
   "source": [
    "plt.plot(4, 4.5, \"ro\")\n",
    "plt.plot(5, 5, \"ro\")\n",
    "plt.plot(4.5, 5.1, \"ro\")\n",
    "\n",
    "\n",
    "plt.title(\"Distâcia entre ponto\")\n",
    "\n",
    "plt.plot([4, 5], [4.5, 4.5], \"b\", linestyle=\"-\", linewidth=0.4)\n",
    "plt.plot([5, 5], [4.5, 5], \"b\", linestyle=\"-\", linewidth=0.4)\n",
    "plt.plot([4, 5], [4.5, 5], \"r\", linestyle=\"-.\", linewidth=0.5)\n",
    "\n",
    "plt.plot([4, 4.5], [4.5, 4.5], \"b\", linestyle=\"-\", linewidth=0.4)\n",
    "plt.plot([4.5, 4.5], [4.5, 5.1], \"b\", linestyle=\"-\", linewidth=0.4)\n",
    "plt.plot([4, 4.5], [4.5, 5.1], \"r\", linestyle=\"-.\", linewidth=0.5)"
   ]
  },
  {
   "cell_type": "markdown",
   "id": "03fe4927-2638-4937-aebc-355108579004",
   "metadata": {},
   "source": [
    "<img src=\"https://th.bing.com/th/id/R.28919f8b135e7cdeff26b7d4129931a9?rik=5lHQbXUq1w9WgQ&riu=http%3a%2f%2f4.bp.blogspot.com%2f-k7tYdaYjOW4%2fUBL5s5XtZcI%2fAAAAAAAAAD0%2fUACGq8y7mbU%2fs1600%2fPITAGORAS.jpg&ehk=krc9hmNroU0j9m34QvqEUkq0BajwTRUOZ%2bOPj7yQs3g%3d&risl=&pid=ImgRaw&r=0\" width=\"700\" height=\"800\">"
   ]
  },
  {
   "cell_type": "markdown",
   "id": "1a5d81aa-5a6e-4ba0-9c89-24b0a999862b",
   "metadata": {},
   "source": [
    "### Calculando catetos na mão, e usando a biblioteca numpy"
   ]
  },
  {
   "cell_type": "code",
   "execution_count": 124,
   "id": "3706bb81-2163-48ff-9805-259a2ee4ae0f",
   "metadata": {},
   "outputs": [
    {
     "data": {
      "text/plain": [
       "1.118033988749895"
      ]
     },
     "execution_count": 124,
     "metadata": {},
     "output_type": "execute_result"
    }
   ],
   "source": [
    "from math import sqrt\n",
    "\n",
    "pontosA = np.array([4, 4.5])\n",
    "pontosB = np.array([5, 5])\n",
    "\n",
    "sqrt(sum(abs(pontosA - pontosB)**2))"
   ]
  },
  {
   "cell_type": "code",
   "execution_count": 126,
   "id": "073b6d98-b5e6-4ac3-8758-6819dd6b85af",
   "metadata": {},
   "outputs": [
    {
     "data": {
      "text/plain": [
       "1.118033988749895"
      ]
     },
     "execution_count": 126,
     "metadata": {},
     "output_type": "execute_result"
    }
   ],
   "source": [
    "np.linalg.norm(pontosA - pontosB)"
   ]
  },
  {
   "cell_type": "markdown",
   "id": "96dfdc34-a60e-4b52-a430-bba9b374de59",
   "metadata": {},
   "source": [
    "### Função para calcular hipotenusa"
   ]
  },
  {
   "cell_type": "code",
   "execution_count": 130,
   "id": "330f211a-87d3-48cf-b068-9cb0661aaa28",
   "metadata": {},
   "outputs": [
    {
     "data": {
      "text/plain": [
       "1.118033988749895"
      ]
     },
     "execution_count": 130,
     "metadata": {},
     "output_type": "execute_result"
    }
   ],
   "source": [
    "def hipotenusa(a, b):\n",
    "    return np.linalg.norm(a - b)\n",
    "    \n",
    "hipotenusa(pontosA , pontosB)"
   ]
  },
  {
   "cell_type": "markdown",
   "id": "eb453642-c8ce-4699-8040-4255db01b4ad",
   "metadata": {},
   "source": [
    "### Função para obter notas de 1 usuário. 👨‍"
   ]
  },
  {
   "cell_type": "code",
   "execution_count": 232,
   "id": "4c16289c-fe7b-4c76-ab59-47ec2974ed3a",
   "metadata": {},
   "outputs": [
    {
     "data": {
      "text/html": [
       "<div>\n",
       "<style scoped>\n",
       "    .dataframe tbody tr th:only-of-type {\n",
       "        vertical-align: middle;\n",
       "    }\n",
       "\n",
       "    .dataframe tbody tr th {\n",
       "        vertical-align: top;\n",
       "    }\n",
       "\n",
       "    .dataframe thead th {\n",
       "        text-align: right;\n",
       "    }\n",
       "</style>\n",
       "<table border=\"1\" class=\"dataframe\">\n",
       "  <thead>\n",
       "    <tr style=\"text-align: right;\">\n",
       "      <th></th>\n",
       "      <th>rating</th>\n",
       "    </tr>\n",
       "    <tr>\n",
       "      <th>movieId</th>\n",
       "      <th></th>\n",
       "    </tr>\n",
       "  </thead>\n",
       "  <tbody>\n",
       "    <tr>\n",
       "      <th>307</th>\n",
       "      <td>3.5</td>\n",
       "    </tr>\n",
       "    <tr>\n",
       "      <th>481</th>\n",
       "      <td>3.5</td>\n",
       "    </tr>\n",
       "    <tr>\n",
       "      <th>1091</th>\n",
       "      <td>1.5</td>\n",
       "    </tr>\n",
       "    <tr>\n",
       "      <th>1257</th>\n",
       "      <td>4.5</td>\n",
       "    </tr>\n",
       "    <tr>\n",
       "      <th>1449</th>\n",
       "      <td>4.5</td>\n",
       "    </tr>\n",
       "  </tbody>\n",
       "</table>\n",
       "</div>"
      ],
      "text/plain": [
       "         rating\n",
       "movieId        \n",
       "307         3.5\n",
       "481         3.5\n",
       "1091        1.5\n",
       "1257        4.5\n",
       "1449        4.5"
      ]
     },
     "execution_count": 232,
     "metadata": {},
     "output_type": "execute_result"
    }
   ],
   "source": [
    "def nota_usuario(id_usuario):\n",
    "    return notas.query(\"userId ==%d\" % id_usuario)[[\"movieId\", \"rating\"]].set_index(\"movieId\")\n",
    "\n",
    "notas_usuarios(1).head()"
   ]
  },
  {
   "cell_type": "markdown",
   "id": "54655fe6-6dd7-40e2-a26d-465a6dc19d46",
   "metadata": {},
   "source": [
    "### Função para obter notras de 2 usuários. 🧑‍ 🧑‍"
   ]
  },
  {
   "cell_type": "code",
   "execution_count": 233,
   "id": "373fad39-1b12-4557-97fb-8b76282782f9",
   "metadata": {},
   "outputs": [
    {
     "data": {
      "text/html": [
       "<div>\n",
       "<style scoped>\n",
       "    .dataframe tbody tr th:only-of-type {\n",
       "        vertical-align: middle;\n",
       "    }\n",
       "\n",
       "    .dataframe tbody tr th {\n",
       "        vertical-align: top;\n",
       "    }\n",
       "\n",
       "    .dataframe thead th {\n",
       "        text-align: right;\n",
       "    }\n",
       "</style>\n",
       "<table border=\"1\" class=\"dataframe\">\n",
       "  <thead>\n",
       "    <tr style=\"text-align: right;\">\n",
       "      <th></th>\n",
       "      <th>rating_L</th>\n",
       "      <th>rating_R</th>\n",
       "    </tr>\n",
       "    <tr>\n",
       "      <th>movieId</th>\n",
       "      <th></th>\n",
       "      <th></th>\n",
       "    </tr>\n",
       "  </thead>\n",
       "  <tbody>\n",
       "    <tr>\n",
       "      <th>481</th>\n",
       "      <td>3.5</td>\n",
       "      <td>4.0</td>\n",
       "    </tr>\n",
       "    <tr>\n",
       "      <th>1091</th>\n",
       "      <td>1.5</td>\n",
       "      <td>1.0</td>\n",
       "    </tr>\n",
       "    <tr>\n",
       "      <th>1590</th>\n",
       "      <td>2.5</td>\n",
       "      <td>3.5</td>\n",
       "    </tr>\n",
       "    <tr>\n",
       "      <th>1591</th>\n",
       "      <td>1.5</td>\n",
       "      <td>3.5</td>\n",
       "    </tr>\n",
       "    <tr>\n",
       "      <th>2478</th>\n",
       "      <td>4.0</td>\n",
       "      <td>3.0</td>\n",
       "    </tr>\n",
       "  </tbody>\n",
       "</table>\n",
       "</div>"
      ],
      "text/plain": [
       "         rating_L  rating_R\n",
       "movieId                    \n",
       "481           3.5       4.0\n",
       "1091          1.5       1.0\n",
       "1590          2.5       3.5\n",
       "1591          1.5       3.5\n",
       "2478          4.0       3.0"
      ]
     },
     "execution_count": 233,
     "metadata": {},
     "output_type": "execute_result"
    }
   ],
   "source": [
    "def direfencas_usuarios(id1, id2):\n",
    "    return nota_usuario(id1).join(notas_usuarios(id2), lsuffix=\"_L\", rsuffix=\"_R\" ).dropna()\n",
    "\n",
    "direfencas_usuarios(1, 4).head()"
   ]
  },
  {
   "cell_type": "markdown",
   "id": "008b4150-7cc5-4e58-b8fd-591dee299331",
   "metadata": {},
   "source": [
    "### Função para obter sistancias entre de 2 usuários. 🧑‍ 🧑‍"
   ]
  },
  {
   "cell_type": "code",
   "execution_count": 229,
   "id": "a7d9aefc-3ee4-46d1-a3b4-7a4957166be3",
   "metadata": {},
   "outputs": [
    {
     "data": {
      "text/plain": [
       "[1, 4, 3.0413812651491097]"
      ]
     },
     "execution_count": 229,
     "metadata": {},
     "output_type": "execute_result"
    }
   ],
   "source": [
    "def distancias_entre_usuarios(id1, id2, semelhanca = 5):\n",
    "    \"\"\"\n",
    "        Entrada:\n",
    "            ID do usuário 1 e ID do usuário 2\n",
    "            \n",
    "        Cálculo:\n",
    "            Calcula a diferencça entre usuários usando hipotenusa\n",
    "            \n",
    "        Retorno:\n",
    "            Retorno uma lista com ID usuáio 1, ID usuário 2 e a distância.\n",
    "    \"\"\"\n",
    "    notas = direfencas_usuarios(id1, id2)\n",
    "    \n",
    "    if notas.shape[0] <= semelhanca:\n",
    "        return [id1, id2, None]\n",
    "    \n",
    "    else:\n",
    "        distancia = hipotenusa(notas[\"rating_L\"], notas[\"rating_R\"])\n",
    "\n",
    "        return [id1, id2, distancia]\n",
    "\n",
    "distancias_entre_usuarios(1, 4)"
   ]
  },
  {
   "cell_type": "code",
   "execution_count": 278,
   "id": "d7d269d4-a88e-4d31-93ba-8614e6035264",
   "metadata": {},
   "outputs": [],
   "source": [
    "def lista_distancia_todos_usuarios(usuario_id, usuario_a_ser_comprado, min_compracao = None):\n",
    "    l = []\n",
    "    \n",
    "    if min_compracao == None:\n",
    "        min_compracao = len(usuario_a_ser_comprado)\n",
    "    \n",
    "    for id_usuario in usuario_a_ser_comprado[:min_compracao]:\n",
    "        distancias = distancias_entre_usuarios(usuario_id, id_usuario, 5)\n",
    "        \n",
    "        if distancias[2] == None or distancias[1] == usuario_id:\n",
    "            pass\n",
    "        \n",
    "        else:\n",
    "            l.append(distancias_entre_usuarios(usuario_id, id_usuario, 5))\n",
    "    \n",
    "    return pd.DataFrame(l)\n",
    "\n",
    "usuarios_total = notas[\"userId\"].sample(1000).unique()\n",
    "\n",
    "l = lista_distancia_todos_usuarios(1, usuarios_total, 10)"
   ]
  },
  {
   "cell_type": "code",
   "execution_count": 280,
   "id": "3bd3af24-7c1c-4f6f-aff0-3c3cc1882d09",
   "metadata": {},
   "outputs": [
    {
     "data": {
      "text/html": [
       "<div>\n",
       "<style scoped>\n",
       "    .dataframe tbody tr th:only-of-type {\n",
       "        vertical-align: middle;\n",
       "    }\n",
       "\n",
       "    .dataframe tbody tr th {\n",
       "        vertical-align: top;\n",
       "    }\n",
       "\n",
       "    .dataframe thead th {\n",
       "        text-align: right;\n",
       "    }\n",
       "</style>\n",
       "<table border=\"1\" class=\"dataframe\">\n",
       "  <thead>\n",
       "    <tr style=\"text-align: right;\">\n",
       "      <th></th>\n",
       "    </tr>\n",
       "  </thead>\n",
       "  <tbody>\n",
       "  </tbody>\n",
       "</table>\n",
       "</div>"
      ],
      "text/plain": [
       "Empty DataFrame\n",
       "Columns: []\n",
       "Index: []"
      ]
     },
     "execution_count": 280,
     "metadata": {},
     "output_type": "execute_result"
    }
   ],
   "source": [
    "l"
   ]
  },
  {
   "cell_type": "code",
   "execution_count": null,
   "id": "cd00cf6d-a0bd-4b55-a6f3-5f21d3d91972",
   "metadata": {},
   "outputs": [],
   "source": []
  }
 ],
 "metadata": {
  "kernelspec": {
   "display_name": "Python 3 (ipykernel)",
   "language": "python",
   "name": "python3"
  },
  "language_info": {
   "codemirror_mode": {
    "name": "ipython",
    "version": 3
   },
   "file_extension": ".py",
   "mimetype": "text/x-python",
   "name": "python",
   "nbconvert_exporter": "python",
   "pygments_lexer": "ipython3",
   "version": "3.11.0"
  }
 },
 "nbformat": 4,
 "nbformat_minor": 5
}
